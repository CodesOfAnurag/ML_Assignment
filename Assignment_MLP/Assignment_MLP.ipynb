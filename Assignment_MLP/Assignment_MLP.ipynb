{
 "cells": [
  {
   "cell_type": "code",
   "execution_count": 393,
   "metadata": {},
   "outputs": [],
   "source": [
    "import numpy as np\n",
    "import pandas as pd\n",
    "import matplotlib.pyplot as plt\n",
    "import seaborn as sns"
   ]
  },
  {
   "cell_type": "code",
   "execution_count": 435,
   "metadata": {},
   "outputs": [],
   "source": [
    "class Perceptron:\n",
    "    def __init__(self, features, epochs=1000, learning_rate=0.01):\n",
    "        self.epochs = epochs\n",
    "        self.features = features\n",
    "        self.learning_rate = learning_rate\n",
    "#         self.weights = np.zeros(features + 1)\n",
    "        self.weights = [0 for i in range(features+1)]\n",
    "           \n",
    "    def predict(self, inputs):\n",
    "        summation = self.weights[0]\n",
    "        summation += sum([inputs[j]*self.weights[j+1] for j in range(self.features)])\n",
    "#         if summation > 0:\n",
    "#           stepFunction = 1\n",
    "#         else:\n",
    "#           stepFunction = 0 \n",
    "        return 1 if summation>0 else 0\n",
    "\n",
    "    def train(self, tinputs, labels):\n",
    "        for epoch in range(self.epochs):\n",
    "            for inputs, label in zip(tinputs, labels):\n",
    "                prediction = self.predict(inputs)\n",
    "                self.weights[1:] += self.learning_rate * (label - prediction) * inputs\n",
    "                self.weights[0] += self.learning_rate * (label - prediction)"
   ]
  },
  {
   "cell_type": "code",
   "execution_count": 436,
   "metadata": {},
   "outputs": [],
   "source": [
    "def ConfusionMatrix(label, predicted):\n",
    "    data = {'Actual Label': label, 'Predicted Label': predicted}\n",
    "    df = pd.DataFrame(data, columns=data.keys())\n",
    "    confusion_matrix = pd.crosstab(df['Actual Label'], df['Predicted Label'], rownames=['Actual'], colnames=['Predicted'])\n",
    "    sns.heatmap(confusion_matrix, annot=True)"
   ]
  },
  {
   "cell_type": "code",
   "execution_count": 455,
   "metadata": {},
   "outputs": [],
   "source": [
    "# Creating RandomDataSet.csv\n",
    "data = np.zeros((100,5), dtype=float)\n",
    "\n",
    "np.random.seed(42)\n",
    "data[:50,4] = 0\n",
    "data[50:,4] = 1\n",
    "\n",
    "for i in range(data.shape[1]-1):\n",
    "    data[:50, i] = np.random.random((1,50))*10\n",
    "    data[50:, i] = np.random.random((1,50))*50\n",
    "\n",
    "df = pd.DataFrame(data, columns= ['Feature'+str(i) for i in range(1,5)]+['label'])\n",
    "df.to_csv(\"RandomDataSet.csv\", index=False)"
   ]
  },
  {
   "cell_type": "code",
   "execution_count": 466,
   "metadata": {},
   "outputs": [
    {
     "data": {
      "text/html": [
       "<div>\n",
       "<style scoped>\n",
       "    .dataframe tbody tr th:only-of-type {\n",
       "        vertical-align: middle;\n",
       "    }\n",
       "\n",
       "    .dataframe tbody tr th {\n",
       "        vertical-align: top;\n",
       "    }\n",
       "\n",
       "    .dataframe thead th {\n",
       "        text-align: right;\n",
       "    }\n",
       "</style>\n",
       "<table border=\"1\" class=\"dataframe\">\n",
       "  <thead>\n",
       "    <tr style=\"text-align: right;\">\n",
       "      <th></th>\n",
       "      <th>Feature1</th>\n",
       "      <th>Feature2</th>\n",
       "      <th>Feature3</th>\n",
       "      <th>Feature4</th>\n",
       "      <th>label</th>\n",
       "    </tr>\n",
       "  </thead>\n",
       "  <tbody>\n",
       "    <tr>\n",
       "      <th>0</th>\n",
       "      <td>3.745401</td>\n",
       "      <td>0.314292</td>\n",
       "      <td>6.420316</td>\n",
       "      <td>0.516817</td>\n",
       "      <td>0.0</td>\n",
       "    </tr>\n",
       "    <tr>\n",
       "      <th>1</th>\n",
       "      <td>9.507143</td>\n",
       "      <td>6.364104</td>\n",
       "      <td>0.841400</td>\n",
       "      <td>5.313546</td>\n",
       "      <td>0.0</td>\n",
       "    </tr>\n",
       "    <tr>\n",
       "      <th>2</th>\n",
       "      <td>7.319939</td>\n",
       "      <td>3.143560</td>\n",
       "      <td>1.616287</td>\n",
       "      <td>5.406351</td>\n",
       "      <td>0.0</td>\n",
       "    </tr>\n",
       "    <tr>\n",
       "      <th>3</th>\n",
       "      <td>5.986585</td>\n",
       "      <td>5.085707</td>\n",
       "      <td>8.985542</td>\n",
       "      <td>6.374299</td>\n",
       "      <td>0.0</td>\n",
       "    </tr>\n",
       "    <tr>\n",
       "      <th>4</th>\n",
       "      <td>1.560186</td>\n",
       "      <td>9.075665</td>\n",
       "      <td>6.064291</td>\n",
       "      <td>7.260913</td>\n",
       "      <td>0.0</td>\n",
       "    </tr>\n",
       "  </tbody>\n",
       "</table>\n",
       "</div>"
      ],
      "text/plain": [
       "   Feature1  Feature2  Feature3  Feature4  label\n",
       "0  3.745401  0.314292  6.420316  0.516817    0.0\n",
       "1  9.507143  6.364104  0.841400  5.313546    0.0\n",
       "2  7.319939  3.143560  1.616287  5.406351    0.0\n",
       "3  5.986585  5.085707  8.985542  6.374299    0.0\n",
       "4  1.560186  9.075665  6.064291  7.260913    0.0"
      ]
     },
     "execution_count": 466,
     "metadata": {},
     "output_type": "execute_result"
    }
   ],
   "source": [
    "# reading the created RandomDataSet.csv\n",
    "df = pd.read_csv('RandomDataSet.csv')\n",
    "df.head()"
   ]
  },
  {
   "cell_type": "code",
   "execution_count": 467,
   "metadata": {},
   "outputs": [
    {
     "data": {
      "image/png": "[encoded data removed]",
      "text/plain": [
       "<Figure size 432x288 with 1 Axes>"
      ]
     },
     "metadata": {
      "needs_background": "light"
     },
     "output_type": "display_data"
    }
   ],
   "source": [
    "plt.scatter(df[ df['label']==0.0 ]['Feature1'], df[ df['label']==0.0 ]['Feature4'], marker='o', Label=0)\n",
    "plt.scatter(df[ df['label']==1.0 ]['Feature1'], df[ df['label']==1.0 ]['Feature4'], marker='x', Label=1)\n",
    "\n",
    "plt.xlabel('Feature1')\n",
    "plt.ylabel('Feature4')\n",
    "\n",
    "plt.show()"
   ]
  },
  {
   "cell_type": "code",
   "execution_count": 468,
   "metadata": {},
   "outputs": [
    {
     "name": "stdout",
     "output_type": "stream",
     "text": [
      "(100, 5)\n"
     ]
    }
   ],
   "source": [
    "data = df.to_numpy()\n",
    "print(data.shape)\n",
    "\n",
    "test = np.vstack((data[:20], data[50:70]))\n",
    "train = np.vstack((data[20:50], data[70:]))\n",
    "\n",
    "features = train[:,:-1]\n",
    "labels = train[:,-1]"
   ]
  },
  {
   "cell_type": "code",
   "execution_count": 469,
   "metadata": {},
   "outputs": [],
   "source": [
    "p = Perceptron(features.shape[1])"
   ]
  },
  {
   "cell_type": "code",
   "execution_count": 470,
   "metadata": {},
   "outputs": [],
   "source": [
    "p.train(features, labels)"
   ]
  },
  {
   "cell_type": "code",
   "execution_count": 471,
   "metadata": {},
   "outputs": [
    {
     "name": "stdout",
     "output_type": "stream",
     "text": [
      "Labels\tPredicted\n",
      "0\t0\n",
      "0\t0\n",
      "0\t0\n",
      "0\t0\n",
      "0\t0\n",
      "0\t0\n",
      "0\t0\n",
      "0\t0\n",
      "0\t0\n",
      "0\t0\n",
      "0\t0\n",
      "0\t0\n",
      "0\t0\n",
      "0\t0\n",
      "0\t0\n",
      "0\t0\n",
      "0\t0\n",
      "0\t0\n",
      "0\t0\n",
      "0\t0\n",
      "1\t1\n",
      "1\t1\n",
      "1\t1\n",
      "1\t1\n",
      "1\t1\n",
      "1\t1\n",
      "1\t1\n",
      "1\t1\n",
      "1\t1\n",
      "1\t1\n",
      "1\t1\n",
      "1\t1\n",
      "1\t1\n",
      "1\t1\n",
      "1\t1\n",
      "1\t1\n",
      "1\t1\n",
      "1\t1\n",
      "1\t0\n",
      "1\t1\n"
     ]
    }
   ],
   "source": [
    "predicted = list()\n",
    "testLabel = list(map(int, test[:,-1]))\n",
    "\n",
    "print(\"Labels\\tPredicted\")\n",
    "\n",
    "for i in range(test.shape[0]):\n",
    "    predicted.append(p.predict(test[i,:-1]))\n",
    "    print(f'{int(test[i,-1])}\\t{predicted[-1]}')"
   ]
  },
  {
   "cell_type": "code",
   "execution_count": 472,
   "metadata": {},
   "outputs": [
    {
     "name": "stdout",
     "output_type": "stream",
     "text": [
      "{'TP': 19, 'TN': 20, 'FP': 0, 'FN': 1}\n"
     ]
    },
    {
     "data": {
      "image/png": "[encoded data removed]",
      "text/plain": [
       "<Figure size 432x288 with 2 Axes>"
      ]
     },
     "metadata": {
      "needs_background": "light"
     },
     "output_type": "display_data"
    }
   ],
   "source": [
    "confusion = {'TP':0, 'TN':0, 'FP':0, 'FN':0}\n",
    "\n",
    "for i in range(len(predicted)):\n",
    "    if int(test[i,-1]) == 1 and predicted[i] == 1:\n",
    "        confusion['TP']+=1\n",
    "    elif int(test[i,-1]) == 1 and predicted[i] == 0:\n",
    "        confusion['FN']+=1\n",
    "    elif int(test[i,-1]) == 0 and predicted[i] == 1:\n",
    "        confusion['FP']+=1\n",
    "    else:\n",
    "        confusion['TN']+=1\n",
    "        \n",
    "print(confusion)\n",
    "\n",
    "ConfusionMatrix(testLabel, predicted)"
   ]
  },
  {
   "cell_type": "code",
   "execution_count": 473,
   "metadata": {},
   "outputs": [
    {
     "data": {
      "text/plain": [
       "0"
      ]
     },
     "execution_count": 473,
     "metadata": {},
     "output_type": "execute_result"
    }
   ],
   "source": [
    "p.predict([8,4,2,5])"
   ]
  },
  {
   "cell_type": "code",
   "execution_count": 474,
   "metadata": {},
   "outputs": [
    {
     "data": {
      "text/html": [
       "<div>\n",
       "<style scoped>\n",
       "    .dataframe tbody tr th:only-of-type {\n",
       "        vertical-align: middle;\n",
       "    }\n",
       "\n",
       "    .dataframe tbody tr th {\n",
       "        vertical-align: top;\n",
       "    }\n",
       "\n",
       "    .dataframe thead th {\n",
       "        text-align: right;\n",
       "    }\n",
       "</style>\n",
       "<table border=\"1\" class=\"dataframe\">\n",
       "  <thead>\n",
       "    <tr style=\"text-align: right;\">\n",
       "      <th></th>\n",
       "      <th>0.0200</th>\n",
       "      <th>0.0371</th>\n",
       "      <th>0.0428</th>\n",
       "      <th>0.0207</th>\n",
       "      <th>0.0954</th>\n",
       "      <th>0.0986</th>\n",
       "      <th>0.1539</th>\n",
       "      <th>0.1601</th>\n",
       "      <th>0.3109</th>\n",
       "      <th>0.2111</th>\n",
       "      <th>...</th>\n",
       "      <th>0.0027</th>\n",
       "      <th>0.0065</th>\n",
       "      <th>0.0159</th>\n",
       "      <th>0.0072</th>\n",
       "      <th>0.0167</th>\n",
       "      <th>0.0180</th>\n",
       "      <th>0.0084</th>\n",
       "      <th>0.0090</th>\n",
       "      <th>0.0032</th>\n",
       "      <th>R</th>\n",
       "    </tr>\n",
       "  </thead>\n",
       "  <tbody>\n",
       "    <tr>\n",
       "      <th>0</th>\n",
       "      <td>0.0453</td>\n",
       "      <td>0.0523</td>\n",
       "      <td>0.0843</td>\n",
       "      <td>0.0689</td>\n",
       "      <td>0.1183</td>\n",
       "      <td>0.2583</td>\n",
       "      <td>0.2156</td>\n",
       "      <td>0.3481</td>\n",
       "      <td>0.3337</td>\n",
       "      <td>0.2872</td>\n",
       "      <td>...</td>\n",
       "      <td>0.0084</td>\n",
       "      <td>0.0089</td>\n",
       "      <td>0.0048</td>\n",
       "      <td>0.0094</td>\n",
       "      <td>0.0191</td>\n",
       "      <td>0.0140</td>\n",
       "      <td>0.0049</td>\n",
       "      <td>0.0052</td>\n",
       "      <td>0.0044</td>\n",
       "      <td>1</td>\n",
       "    </tr>\n",
       "    <tr>\n",
       "      <th>1</th>\n",
       "      <td>0.0262</td>\n",
       "      <td>0.0582</td>\n",
       "      <td>0.1099</td>\n",
       "      <td>0.1083</td>\n",
       "      <td>0.0974</td>\n",
       "      <td>0.2280</td>\n",
       "      <td>0.2431</td>\n",
       "      <td>0.3771</td>\n",
       "      <td>0.5598</td>\n",
       "      <td>0.6194</td>\n",
       "      <td>...</td>\n",
       "      <td>0.0232</td>\n",
       "      <td>0.0166</td>\n",
       "      <td>0.0095</td>\n",
       "      <td>0.0180</td>\n",
       "      <td>0.0244</td>\n",
       "      <td>0.0316</td>\n",
       "      <td>0.0164</td>\n",
       "      <td>0.0095</td>\n",
       "      <td>0.0078</td>\n",
       "      <td>1</td>\n",
       "    </tr>\n",
       "    <tr>\n",
       "      <th>2</th>\n",
       "      <td>0.0100</td>\n",
       "      <td>0.0171</td>\n",
       "      <td>0.0623</td>\n",
       "      <td>0.0205</td>\n",
       "      <td>0.0205</td>\n",
       "      <td>0.0368</td>\n",
       "      <td>0.1098</td>\n",
       "      <td>0.1276</td>\n",
       "      <td>0.0598</td>\n",
       "      <td>0.1264</td>\n",
       "      <td>...</td>\n",
       "      <td>0.0121</td>\n",
       "      <td>0.0036</td>\n",
       "      <td>0.0150</td>\n",
       "      <td>0.0085</td>\n",
       "      <td>0.0073</td>\n",
       "      <td>0.0050</td>\n",
       "      <td>0.0044</td>\n",
       "      <td>0.0040</td>\n",
       "      <td>0.0117</td>\n",
       "      <td>1</td>\n",
       "    </tr>\n",
       "    <tr>\n",
       "      <th>3</th>\n",
       "      <td>0.0762</td>\n",
       "      <td>0.0666</td>\n",
       "      <td>0.0481</td>\n",
       "      <td>0.0394</td>\n",
       "      <td>0.0590</td>\n",
       "      <td>0.0649</td>\n",
       "      <td>0.1209</td>\n",
       "      <td>0.2467</td>\n",
       "      <td>0.3564</td>\n",
       "      <td>0.4459</td>\n",
       "      <td>...</td>\n",
       "      <td>0.0031</td>\n",
       "      <td>0.0054</td>\n",
       "      <td>0.0105</td>\n",
       "      <td>0.0110</td>\n",
       "      <td>0.0015</td>\n",
       "      <td>0.0072</td>\n",
       "      <td>0.0048</td>\n",
       "      <td>0.0107</td>\n",
       "      <td>0.0094</td>\n",
       "      <td>1</td>\n",
       "    </tr>\n",
       "    <tr>\n",
       "      <th>4</th>\n",
       "      <td>0.0286</td>\n",
       "      <td>0.0453</td>\n",
       "      <td>0.0277</td>\n",
       "      <td>0.0174</td>\n",
       "      <td>0.0384</td>\n",
       "      <td>0.0990</td>\n",
       "      <td>0.1201</td>\n",
       "      <td>0.1833</td>\n",
       "      <td>0.2105</td>\n",
       "      <td>0.3039</td>\n",
       "      <td>...</td>\n",
       "      <td>0.0045</td>\n",
       "      <td>0.0014</td>\n",
       "      <td>0.0038</td>\n",
       "      <td>0.0013</td>\n",
       "      <td>0.0089</td>\n",
       "      <td>0.0057</td>\n",
       "      <td>0.0027</td>\n",
       "      <td>0.0051</td>\n",
       "      <td>0.0062</td>\n",
       "      <td>1</td>\n",
       "    </tr>\n",
       "  </tbody>\n",
       "</table>\n",
       "<p>5 rows × 61 columns</p>\n",
       "</div>"
      ],
      "text/plain": [
       "   0.0200  0.0371  0.0428  0.0207  0.0954  0.0986  0.1539  0.1601  0.3109  \\\n",
       "0  0.0453  0.0523  0.0843  0.0689  0.1183  0.2583  0.2156  0.3481  0.3337   \n",
       "1  0.0262  0.0582  0.1099  0.1083  0.0974  0.2280  0.2431  0.3771  0.5598   \n",
       "2  0.0100  0.0171  0.0623  0.0205  0.0205  0.0368  0.1098  0.1276  0.0598   \n",
       "3  0.0762  0.0666  0.0481  0.0394  0.0590  0.0649  0.1209  0.2467  0.3564   \n",
       "4  0.0286  0.0453  0.0277  0.0174  0.0384  0.0990  0.1201  0.1833  0.2105   \n",
       "\n",
       "   0.2111  ...  0.0027  0.0065  0.0159  0.0072  0.0167  0.0180  0.0084  \\\n",
       "0  0.2872  ...  0.0084  0.0089  0.0048  0.0094  0.0191  0.0140  0.0049   \n",
       "1  0.6194  ...  0.0232  0.0166  0.0095  0.0180  0.0244  0.0316  0.0164   \n",
       "2  0.1264  ...  0.0121  0.0036  0.0150  0.0085  0.0073  0.0050  0.0044   \n",
       "3  0.4459  ...  0.0031  0.0054  0.0105  0.0110  0.0015  0.0072  0.0048   \n",
       "4  0.3039  ...  0.0045  0.0014  0.0038  0.0013  0.0089  0.0057  0.0027   \n",
       "\n",
       "   0.0090  0.0032  R  \n",
       "0  0.0052  0.0044  1  \n",
       "1  0.0095  0.0078  1  \n",
       "2  0.0040  0.0117  1  \n",
       "3  0.0107  0.0094  1  \n",
       "4  0.0051  0.0062  1  \n",
       "\n",
       "[5 rows x 61 columns]"
      ]
     },
     "execution_count": 474,
     "metadata": {},
     "output_type": "execute_result"
    }
   ],
   "source": [
    "# using sonar dataset\n",
    "df = pd.read_csv('sonar.all-data.csv')\n",
    "\n",
    "df['R'] = df['R'].map({'R': 1, 'M': 0})\n",
    "df.head()"
   ]
  },
  {
   "cell_type": "code",
   "execution_count": 480,
   "metadata": {},
   "outputs": [
    {
     "data": {
      "image/png": "[encoded data removed]",
      "text/plain": [
       "<Figure size 432x288 with 1 Axes>"
      ]
     },
     "metadata": {
      "needs_background": "light"
     },
     "output_type": "display_data"
    }
   ],
   "source": [
    "plt.scatter(df[ df['R']==0.0 ]['0.0200'], df[ df['R']==0.0 ]['0.2111'], marker='o', Label=0)\n",
    "plt.scatter(df[ df['R']==1.0 ]['0.0200'], df[ df['R']==1.0 ]['0.2111'], marker='x', Label=1)\n",
    "\n",
    "plt.xlabel('Feature1')\n",
    "plt.ylabel('Feature2')\n",
    "\n",
    "plt.show()"
   ]
  },
  {
   "cell_type": "code",
   "execution_count": 464,
   "metadata": {},
   "outputs": [],
   "source": [
    "data = df.to_numpy()\n",
    "\n",
    "test = np.vstack((data[:20], data[180:]))\n",
    "train = data[20:180]\n",
    "\n",
    "features = train[:,:-1]\n",
    "labels = train[:,-1]"
   ]
  },
  {
   "cell_type": "code",
   "execution_count": 448,
   "metadata": {},
   "outputs": [],
   "source": [
    "p = Perceptron(features.shape[1])\n",
    "p.train(features, labels)"
   ]
  },
  {
   "cell_type": "code",
   "execution_count": 449,
   "metadata": {},
   "outputs": [
    {
     "name": "stdout",
     "output_type": "stream",
     "text": [
      "Labels\tPredicted\n",
      "1\t0\n",
      "1\t0\n",
      "1\t0\n",
      "1\t0\n",
      "1\t0\n",
      "1\t0\n",
      "1\t0\n",
      "1\t0\n",
      "1\t0\n",
      "1\t1\n",
      "1\t0\n",
      "1\t0\n",
      "1\t1\n",
      "1\t0\n",
      "1\t1\n",
      "1\t0\n",
      "1\t0\n",
      "1\t1\n",
      "1\t0\n",
      "1\t0\n",
      "0\t0\n",
      "0\t0\n",
      "0\t0\n",
      "0\t0\n",
      "0\t0\n",
      "0\t0\n",
      "0\t0\n",
      "0\t0\n",
      "0\t0\n",
      "0\t0\n",
      "0\t0\n",
      "0\t0\n",
      "0\t0\n",
      "0\t0\n",
      "0\t0\n",
      "0\t0\n",
      "0\t0\n",
      "0\t0\n",
      "0\t0\n",
      "0\t0\n",
      "0\t0\n",
      "0\t0\n",
      "0\t0\n",
      "0\t0\n",
      "0\t1\n",
      "0\t0\n",
      "0\t0\n"
     ]
    }
   ],
   "source": [
    "predicted = list()\n",
    "testLabel = list(map(int, test[:,-1]))\n",
    "\n",
    "print(\"Labels\\tPredicted\")\n",
    "\n",
    "for i in range(test.shape[0]):\n",
    "    predicted.append(p.predict(test[i,:-1]))\n",
    "    print(f'{int(test[i,-1])}\\t{predicted[-1]}')"
   ]
  },
  {
   "cell_type": "code",
   "execution_count": 450,
   "metadata": {},
   "outputs": [
    {
     "name": "stdout",
     "output_type": "stream",
     "text": [
      "{'TP': 4, 'TN': 26, 'FP': 1, 'FN': 16}\n"
     ]
    },
    {
     "data": {
      "image/png": "[encoded data removed]",
      "text/plain": [
       "<Figure size 432x288 with 2 Axes>"
      ]
     },
     "metadata": {
      "needs_background": "light"
     },
     "output_type": "display_data"
    }
   ],
   "source": [
    "confusion = {'TP':0, 'TN':0, 'FP':0, 'FN':0}\n",
    "\n",
    "for i in range(len(predicted)):\n",
    "    if int(test[i,-1]) == 1 and predicted[i] == 1:\n",
    "        confusion['TP']+=1\n",
    "    elif int(test[i,-1]) == 1 and predicted[i] == 0:\n",
    "        confusion['FN']+=1\n",
    "    elif int(test[i,-1]) == 0 and predicted[i] == 1:\n",
    "        confusion['FP']+=1\n",
    "    else:\n",
    "        confusion['TN']+=1\n",
    "        \n",
    "print(confusion)\n",
    "\n",
    "ConfusionMatrix(testLabel, predicted)"
   ]
  },
  {
   "cell_type": "code",
   "execution_count": null,
   "metadata": {},
   "outputs": [],
   "source": []
  }
 ],
 "metadata": {
  "kernelspec": {
   "display_name": "Python 3",
   "language": "python",
   "name": "python3"
  },
  "language_info": {
   "codemirror_mode": {
    "name": "ipython",
    "version": 3
   },
   "file_extension": ".py",
   "mimetype": "text/x-python",
   "name": "python",
   "nbconvert_exporter": "python",
   "pygments_lexer": "ipython3",
   "version": "3.7.7"
  }
 },
 "nbformat": 4,
 "nbformat_minor": 4
}
