{
 "cells": [
  {
   "cell_type": "code",
   "execution_count": 393,
   "metadata": {},
   "outputs": [],
   "source": [
    "import numpy as np\n",
    "import pandas as pd\n",
    "import matplotlib.pyplot as plt\n",
    "import seaborn as sns"
   ]
  },
  {
   "cell_type": "raw",
   "metadata": {},
   "source": [
    "np.random.seed(101)\n",
    "\n",
    "data = np.random.random(4*100).reshape((100,4))\n",
    "for i in range(4):\n",
    "    data[:,i]*=8**i\n",
    "\n",
    "columns = [\"Feature\"+str(i) for i in range(1,5)]\n",
    "df = pd.DataFrame(data = data, columns = columns)\n",
    "\n",
    "df[\"Label\"]=np.random.randint(0,2,(100,1))\n",
    "\n",
    "df.to_csv(\"RandomDataSet.csv\", index=False)\n",
    "\n",
    "plt.scatter(np.array(data[:50,0]), np.array(data[:50,1]), marker='o', Label=0)\n",
    "plt.scatter(np.array(data[50:,0]), np.array(data[50:,1]), marker='x', Label=1)\n",
    "\n",
    "del df"
   ]
  },
  {
   "cell_type": "code",
   "execution_count": 394,
   "metadata": {},
   "outputs": [
    {
     "data": {
      "text/plain": [
       "Text(0, 0.5, 'Feature4')"
      ]
     },
     "execution_count": 394,
     "metadata": {},
     "output_type": "execute_result"
    },
    {
     "data": {
      "image/png": "[encoded data removed]",
      "text/plain": [
       "<Figure size 432x288 with 1 Axes>"
      ]
     },
     "metadata": {
      "needs_background": "light"
     },
     "output_type": "display_data"
    }
   ],
   "source": [
    "data = np.zeros((100,5), dtype=float)\n",
    "\n",
    "np.random.seed(42)\n",
    "data[:50,4] = 0\n",
    "data[50:,4] = 1\n",
    "\n",
    "for i in range(data.shape[1]-1):\n",
    "    data[:50, i] = np.random.random((1,50))*10\n",
    "    data[50:, i] = np.random.random((1,50))*50\n",
    "\n",
    "df = pd.DataFrame(data, columns= ['Feature'+str(i) for i in range(1,5)]+['label'])\n",
    "df.to_csv(\"DataSet.csv\", index=False)\n",
    "\n",
    "plt.scatter(df[ df['label']==0.0 ]['Feature1'], df[ df['label']==0.0 ]['Feature4'], marker='o', Label=0)\n",
    "plt.scatter(df[ df['label']==1.0 ]['Feature1'], df[ df['label']==1.0 ]['Feature4'], marker='x', Label=1)\n",
    "plt.xlabel('Feature1')\n",
    "plt.ylabel('Feature4')\n",
    "\n",
    "# del df"
   ]
  },
  {
   "cell_type": "code",
   "execution_count": 396,
   "metadata": {},
   "outputs": [],
   "source": [
    "class Perceptron:\n",
    "    def __init__(self, features, epochs=1000, learning_rate=0.01):\n",
    "        self.epochs = epochs\n",
    "        self.features = features\n",
    "        self.learning_rate = learning_rate\n",
    "        self.weights = np.zeros(features + 1)\n",
    "           \n",
    "    def predict(self, inputs):\n",
    "        summation = self.weights[0]\n",
    "        summation += sum([inputs[j]*self.weights[j+1] for j in range(self.features)])\n",
    "        if summation > 0:\n",
    "          stepFunction = 1\n",
    "        else:\n",
    "          stepFunction = 0 \n",
    "        return stepFunction\n",
    "\n",
    "    def train(self, tinputs, labels):\n",
    "        for epoch in range(self.epochs):\n",
    "            for inputs, label in zip(tinputs, labels):\n",
    "                prediction = self.predict(inputs)\n",
    "                self.weights[1:] += self.learning_rate * (label - prediction) * inputs\n",
    "                self.weights[0] += self.learning_rate * (label - prediction)"
   ]
  },
  {
   "cell_type": "code",
   "execution_count": 409,
   "metadata": {},
   "outputs": [],
   "source": [
    "def ConfusionMatrix(label, predicted):\n",
    "    data = {'Actual Label': label, 'Predicted Label': predicted}\n",
    "    df = pd.DataFrame(data, columns=data.keys())\n",
    "    confusion_matrix = pd.crosstab(df['Actual Label'], df['Predicted Label'], rownames=['Actual'], colnames=['Predicted'])\n",
    "    sns.heatmap(confusion_matrix, annot=True)"
   ]
  },
  {
   "cell_type": "code",
   "execution_count": 410,
   "metadata": {},
   "outputs": [],
   "source": [
    "# reading the created RandomDataSet.csv\n",
    "df = pd.read_csv('DataSet.csv')"
   ]
  },
  {
   "cell_type": "code",
   "execution_count": 411,
   "metadata": {},
   "outputs": [
    {
     "name": "stdout",
     "output_type": "stream",
     "text": [
      "(100, 5)\n"
     ]
    }
   ],
   "source": [
    "data = df.to_numpy()\n",
    "print(data.shape)\n",
    "\n",
    "test = np.vstack((data[:20], data[50:70]))\n",
    "train = np.vstack((data[20:50], data[70:]))\n",
    "\n",
    "features = train[:,:-1]\n",
    "labels = train[:,-1]"
   ]
  },
  {
   "cell_type": "code",
   "execution_count": 412,
   "metadata": {},
   "outputs": [],
   "source": [
    "p = Perceptron(features.shape[1])\n",
    "p.train(features, labels)"
   ]
  },
  {
   "cell_type": "code",
   "execution_count": 413,
   "metadata": {},
   "outputs": [
    {
     "name": "stdout",
     "output_type": "stream",
     "text": [
      "Labels\tPredicted\n",
      "0\t0\n",
      "0\t0\n",
      "0\t0\n",
      "0\t0\n",
      "0\t0\n",
      "0\t0\n",
      "0\t0\n",
      "0\t0\n",
      "0\t0\n",
      "0\t0\n",
      "0\t0\n",
      "0\t0\n",
      "0\t0\n",
      "0\t0\n",
      "0\t0\n",
      "0\t0\n",
      "0\t0\n",
      "0\t0\n",
      "0\t0\n",
      "0\t0\n",
      "1\t1\n",
      "1\t1\n",
      "1\t1\n",
      "1\t1\n",
      "1\t1\n",
      "1\t1\n",
      "1\t1\n",
      "1\t1\n",
      "1\t1\n",
      "1\t1\n",
      "1\t1\n",
      "1\t1\n",
      "1\t1\n",
      "1\t1\n",
      "1\t1\n",
      "1\t1\n",
      "1\t1\n",
      "1\t1\n",
      "1\t0\n",
      "1\t1\n"
     ]
    }
   ],
   "source": [
    "predicted = list()\n",
    "testLabel = list(map(int, test[:,-1]))\n",
    "\n",
    "print(\"Labels\\tPredicted\")\n",
    "\n",
    "for i in range(test.shape[0]):\n",
    "    predicted.append(p.predict(test[i,:-1]))\n",
    "    print(f'{int(test[i,-1])}\\t{predicted[-1]}')"
   ]
  },
  {
   "cell_type": "code",
   "execution_count": 415,
   "metadata": {},
   "outputs": [
    {
     "name": "stdout",
     "output_type": "stream",
     "text": [
      "{'TP': 19, 'TN': 20, 'FP': 0, 'FN': 1}\n"
     ]
    },
    {
     "data": {
      "image/png": "[encoded data removed]",
      "text/plain": [
       "<Figure size 432x288 with 2 Axes>"
      ]
     },
     "metadata": {
      "needs_background": "light"
     },
     "output_type": "display_data"
    }
   ],
   "source": [
    "confusion = {'TP':0, 'TN':0, 'FP':0, 'FN':0}\n",
    "\n",
    "for i in range(len(predicted)):\n",
    "    if int(test[i,-1]) == 1 and predicted[i] == 1:\n",
    "        confusion['TP']+=1\n",
    "    elif int(test[i,-1]) == 1 and predicted[i] == 0:\n",
    "        confusion['FN']+=1\n",
    "    elif int(test[i,-1]) == 0 and predicted[i] == 1:\n",
    "        confusion['FP']+=1\n",
    "    else:\n",
    "        confusion['TN']+=1\n",
    "        \n",
    "print(confusion)\n",
    "\n",
    "ConfusionMatrix(testLabel, predicted)"
   ]
  },
  {
   "cell_type": "code",
   "execution_count": 416,
   "metadata": {},
   "outputs": [
    {
     "data": {
      "text/plain": [
       "0"
      ]
     },
     "execution_count": 416,
     "metadata": {},
     "output_type": "execute_result"
    }
   ],
   "source": [
    "p.predict([8,4,2,5])"
   ]
  },
  {
   "cell_type": "code",
   "execution_count": 417,
   "metadata": {},
   "outputs": [
    {
     "name": "stdout",
     "output_type": "stream",
     "text": [
      "Labels\tPredicted\n",
      "1\t0\n",
      "1\t0\n",
      "1\t0\n",
      "1\t0\n",
      "1\t0\n",
      "1\t0\n",
      "1\t0\n",
      "1\t0\n",
      "1\t0\n",
      "1\t1\n",
      "1\t0\n",
      "1\t0\n",
      "1\t1\n",
      "1\t0\n",
      "1\t1\n",
      "1\t0\n",
      "1\t0\n",
      "1\t1\n",
      "1\t0\n",
      "1\t0\n",
      "0\t0\n",
      "0\t0\n",
      "0\t0\n",
      "0\t0\n",
      "0\t0\n",
      "0\t0\n",
      "0\t0\n",
      "0\t0\n",
      "0\t0\n",
      "0\t0\n",
      "0\t0\n",
      "0\t0\n",
      "0\t0\n",
      "0\t0\n",
      "0\t0\n",
      "0\t0\n",
      "0\t0\n",
      "0\t0\n",
      "0\t0\n",
      "0\t0\n",
      "0\t0\n",
      "0\t0\n",
      "0\t0\n",
      "0\t0\n",
      "0\t1\n",
      "0\t0\n",
      "0\t0\n"
     ]
    }
   ],
   "source": [
    "# using sonar dataset\n",
    "df = pd.read_csv('sonar.all-data.csv')\n",
    "df.head()\n",
    "df['R'] = df['R'].map({'R': 1, 'M': 0})\n",
    "\n",
    "data = df.to_numpy()\n",
    "\n",
    "test = np.vstack((data[:20], data[180:]))\n",
    "train = data[20:180]\n",
    "\n",
    "features = train[:,:-1]\n",
    "labels = train[:,-1]\n",
    "\n",
    "p = Perceptron(features.shape[1])\n",
    "p.train(features, labels)\n",
    "print(\"Labels\\tPredicted\")\n",
    "predicted = list()\n",
    "testLabel = list(map(int, test[:,-1]))\n",
    "for i in range(test.shape[0]):\n",
    "    predicted.append(p.predict(test[i,:-1]))\n",
    "    print(f'{int(test[i,-1])}\\t{predicted[-1]}')"
   ]
  },
  {
   "cell_type": "code",
   "execution_count": 419,
   "metadata": {},
   "outputs": [
    {
     "name": "stdout",
     "output_type": "stream",
     "text": [
      "{'TP': 4, 'TN': 26, 'FP': 1, 'FN': 16}\n"
     ]
    },
    {
     "data": {
      "image/png": "[encoded data removed]",
      "text/plain": [
       "<Figure size 432x288 with 2 Axes>"
      ]
     },
     "metadata": {
      "needs_background": "light"
     },
     "output_type": "display_data"
    }
   ],
   "source": [
    "confusion = {'TP':0, 'TN':0, 'FP':0, 'FN':0}\n",
    "\n",
    "for i in range(len(predicted)):\n",
    "    if int(test[i,-1]) == 1 and predicted[i] == 1:\n",
    "        confusion['TP']+=1\n",
    "    elif int(test[i,-1]) == 1 and predicted[i] == 0:\n",
    "        confusion['FN']+=1\n",
    "    elif int(test[i,-1]) == 0 and predicted[i] == 1:\n",
    "        confusion['FP']+=1\n",
    "    else:\n",
    "        confusion['TN']+=1\n",
    "        \n",
    "print(confusion)\n",
    "\n",
    "ConfusionMatrix(testLabel, predicted)"
   ]
  },
  {
   "cell_type": "code",
   "execution_count": null,
   "metadata": {},
   "outputs": [],
   "source": []
  }
 ],
 "metadata": {
  "kernelspec": {
   "display_name": "Python 3",
   "language": "python",
   "name": "python3"
  },
  "language_info": {
   "codemirror_mode": {
    "name": "ipython",
    "version": 3
   },
   "file_extension": ".py",
   "mimetype": "text/x-python",
   "name": "python",
   "nbconvert_exporter": "python",
   "pygments_lexer": "ipython3",
   "version": "3.7.7"
  }
 },
 "nbformat": 4,
 "nbformat_minor": 4
}
