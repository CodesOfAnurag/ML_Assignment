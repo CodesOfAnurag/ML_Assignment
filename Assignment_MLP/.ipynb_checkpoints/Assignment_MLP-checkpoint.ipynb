{
 "cells": [
  {
   "cell_type": "code",
   "execution_count": 3,
   "metadata": {},
   "outputs": [],
   "source": [
    "import numpy as np\n",
    "import pandas as pd\n",
    "import matplotlib.pyplot as plt\n",
    "import random"
   ]
  },
  {
   "cell_type": "raw",
   "metadata": {},
   "source": [
    "np.random.seed(101)\n",
    "\n",
    "data = np.random.random(4*100).reshape((100,4))\n",
    "for i in range(4):\n",
    "    data[:,i]*=8**i\n",
    "\n",
    "columns = [\"Feature\"+str(i) for i in range(1,5)]\n",
    "df = pd.DataFrame(data = data, columns = columns)\n",
    "\n",
    "df[\"Label\"]=np.random.randint(0,2,(100,1))\n",
    "\n",
    "df.to_csv(\"RandomDataSet.csv\", index=False)\n",
    "\n",
    "plt.scatter(np.array(data[:50,0]), np.array(data[:50,1]), marker='o', Label=0)\n",
    "plt.scatter(np.array(data[50:,0]), np.array(data[50:,1]), marker='x', Label=1)\n",
    "\n",
    "del df"
   ]
  },
  {
   "cell_type": "code",
   "execution_count": 172,
   "metadata": {},
   "outputs": [
    {
     "data": {
      "text/plain": [
       "Text(0, 0.5, 'Feature4')"
      ]
     },
     "execution_count": 172,
     "metadata": {},
     "output_type": "execute_result"
    },
    {
     "data": {
      "image/png": "[encoded data removed]",
      "text/plain": [
       "<Figure size 432x288 with 1 Axes>"
      ]
     },
     "metadata": {
      "needs_background": "light"
     },
     "output_type": "display_data"
    }
   ],
   "source": [
    "data = np.zeros((100,5), dtype=float)\n",
    "\n",
    "np.random.seed(42)\n",
    "data[:50,4] = 0\n",
    "data[50:,4] = 1\n",
    "\n",
    "for i in range(data.shape[1]-1):\n",
    "    data[:50, i] = np.random.random((1,50))*10\n",
    "    data[50:, i] = np.random.random((1,50))*50\n",
    "\n",
    "df = pd.DataFrame(data, columns= ['Feature'+str(i) for i in range(1,5)]+['label'])\n",
    "df.to_csv(\"DataSet.csv\", index=False)\n",
    "\n",
    "plt.scatter(df[ df['label']==0.0 ]['Feature1'], df[ df['label']==0.0 ]['Feature4'], marker='o', Label=0)\n",
    "plt.scatter(df[ df['label']==1.0 ]['Feature1'], df[ df['label']==1.0 ]['Feature4'], marker='x', Label=1)\n",
    "plt.xlabel('Feature1')\n",
    "plt.ylabel('Feature4')\n",
    "\n",
    "# del df"
   ]
  },
  {
   "cell_type": "code",
   "execution_count": 230,
   "metadata": {},
   "outputs": [],
   "source": [
    "# reading the created RandomDataSet.csv\n",
    "df = pd.read_csv('DataSet.csv')"
   ]
  },
  {
   "cell_type": "code",
   "execution_count": 231,
   "metadata": {},
   "outputs": [],
   "source": [
    "class Perceptron:\n",
    "    def __init__(self, features, epochs=1000, learning_rate=0.01):\n",
    "        self.epochs = epochs\n",
    "        self.features = features\n",
    "        self.learning_rate = learning_rate\n",
    "        self.weights = np.zeros(features + 1)\n",
    "           \n",
    "    def predict(self, inputs):\n",
    "        summation = self.weights[0]\n",
    "        summation += sum([inputs[j]*self.weights[j+1] for j in range(self.features)])\n",
    "        if summation > 0:\n",
    "          activation = 1\n",
    "        else:\n",
    "          activation = 0 \n",
    "        return activation\n",
    "\n",
    "    def train(self, tinputs, labels):\n",
    "        for epoch in range(self.epochs):\n",
    "            for inputs, label in zip(tinputs, labels):\n",
    "                prediction = self.predict(inputs)\n",
    "                self.weights[1:] += self.learning_rate * (label - prediction) * inputs\n",
    "                self.weights[0] += self.learning_rate * (label - prediction)"
   ]
  },
  {
   "cell_type": "code",
   "execution_count": 232,
   "metadata": {},
   "outputs": [],
   "source": [
    "data = df.to_numpy()\n",
    "\n",
    "test = np.vstack((data[:20], data[50:70]))\n",
    "train = np.vstack((data[20:50], data[70:]))\n",
    "\n",
    "features = train[:,:-1]\n",
    "labels = train[:,-1]\n"
   ]
  },
  {
   "cell_type": "code",
   "execution_count": 233,
   "metadata": {},
   "outputs": [],
   "source": [
    "p = Perceptron(features.shape[1])"
   ]
  },
  {
   "cell_type": "code",
   "execution_count": 234,
   "metadata": {},
   "outputs": [
    {
     "name": "stdout",
     "output_type": "stream",
     "text": [
      "[1.39493861 8.960913   5.68308603 7.14595923]\n"
     ]
    },
    {
     "data": {
      "text/plain": [
       "0"
      ]
     },
     "execution_count": 234,
     "metadata": {},
     "output_type": "execute_result"
    }
   ],
   "source": [
    "print(features[1,:])\n",
    "p.predict(features[1,:])"
   ]
  },
  {
   "cell_type": "code",
   "execution_count": 235,
   "metadata": {},
   "outputs": [],
   "source": [
    "p.train(features[10:,:], labels)"
   ]
  },
  {
   "cell_type": "code",
   "execution_count": 236,
   "metadata": {},
   "outputs": [
    {
     "name": "stdout",
     "output_type": "stream",
     "text": [
      "Labels\tPredicted\n",
      "0.0\t0\n",
      "0.0\t0\n",
      "0.0\t0\n",
      "0.0\t0\n",
      "0.0\t0\n",
      "0.0\t0\n",
      "0.0\t0\n",
      "0.0\t0\n",
      "0.0\t0\n",
      "0.0\t0\n",
      "0.0\t0\n",
      "0.0\t0\n",
      "0.0\t0\n",
      "0.0\t0\n",
      "0.0\t0\n",
      "0.0\t0\n",
      "0.0\t0\n",
      "0.0\t0\n",
      "0.0\t0\n",
      "0.0\t0\n",
      "1.0\t1\n",
      "1.0\t1\n",
      "1.0\t1\n",
      "1.0\t1\n",
      "1.0\t0\n",
      "1.0\t1\n",
      "1.0\t0\n",
      "1.0\t1\n",
      "1.0\t1\n",
      "1.0\t1\n",
      "1.0\t1\n",
      "1.0\t1\n",
      "1.0\t1\n",
      "1.0\t1\n",
      "1.0\t1\n",
      "1.0\t1\n",
      "1.0\t1\n",
      "1.0\t1\n",
      "1.0\t0\n",
      "1.0\t1\n"
     ]
    }
   ],
   "source": [
    "print(\"Labels\\tPredicted\")\n",
    "for i in range(test.shape[0]):\n",
    "    print(f'{test[i,-1]}\\t{p.predict(test[i,:-1])}')"
   ]
  },
  {
   "cell_type": "code",
   "execution_count": 237,
   "metadata": {},
   "outputs": [
    {
     "data": {
      "text/plain": [
       "1"
      ]
     },
     "execution_count": 237,
     "metadata": {},
     "output_type": "execute_result"
    }
   ],
   "source": [
    "# 3.177918\t43.866968\t4.699097\t43.873601 1\n",
    "p.predict([3,43,4,43])"
   ]
  },
  {
   "cell_type": "code",
   "execution_count": null,
   "metadata": {},
   "outputs": [],
   "source": []
  }
 ],
 "metadata": {
  "kernelspec": {
   "display_name": "Python 3",
   "language": "python",
   "name": "python3"
  },
  "language_info": {
   "codemirror_mode": {
    "name": "ipython",
    "version": 3
   },
   "file_extension": ".py",
   "mimetype": "text/x-python",
   "name": "python",
   "nbconvert_exporter": "python",
   "pygments_lexer": "ipython3",
   "version": "3.7.7"
  }
 },
 "nbformat": 4,
 "nbformat_minor": 4
}
